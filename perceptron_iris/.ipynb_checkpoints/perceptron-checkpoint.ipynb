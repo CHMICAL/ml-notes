{
 "cells": [
  {
   "cell_type": "code",
   "execution_count": null,
   "id": "ceac605b",
   "metadata": {},
   "outputs": [],
   "source": [
    "import pandas as pd\n",
    "import matplotlib.pyplot as plt\n",
    "import os\n",
    "import numpy as np\n",
    "from iris_dataset import df as iris_df\n",
    "from perceptron_classifier import Perceptron_Classifier\n",
    "from matplotlib.colors import ListedColormap\n"
   ]
  },
  {
   "cell_type": "markdown",
   "id": "6ce44590",
   "metadata": {},
   "source": [
    "# Perceptron classifier\n",
    "\n",
    "The perceptron classifier is a type of supervised learning algorithm used for binary classification. The perceptron classifier makes predictions by assigning weights to input features and taking a weighted sum.  It then applies a threshold function to the sum to produce a prediction of either 0 or 1. \n",
    "\n",
    "Whilst it is an efficient and simple algorithm, it does not perform well when the two classes of data do not have a linear seperation boundary. Therefore, whilst it is good for simple datasets, the algorithm can fail to converge with more complex datasets. In practice, other algorithms would be preferred over perceptron for binary classification problems in industry (e.g., SVM, logistic regression, Naive Bayes)."
   ]
  },
  {
   "cell_type": "markdown",
   "id": "19be8994",
   "metadata": {},
   "source": [
    "## Steps to implementing perceptron\n",
    "\n",
    "1. **Initialize the weights**\n",
    "\n",
    "Weights are initialized as small random values. Typically drawn from a normal distribution with a mean 0, and a small standard deviation (e.g., 0.01). Weights are essentially the parameters that establish the decision boundaries between the two classes of data, and correspond to features of the dataset. The importance of each weight determines the prediction of the perceptron. When the training is ongoing, these weights will be continually updated to find the best decision boundary.\n",
    "\n",
    "2. **Calculate the net input**\n",
    "\n",
    "For each training example (e.g., In house price prediction model, for each house...) calculate the net input. If we have a training set with n examples and m features, the weight vector w is a 1D array of length m+1 (where the extra dimension corresponds to the bias term). Each element of the weight vector w is multiplied by its corresponding feature in the input data, and the results are summed up to produce the net input to the perceptron.\n",
    "        1. Multiply the features by their corresponding weights\n",
    "        2. Sum the results\n",
    "        \n",
    "3. **Apply the activation function (threshold function)**\n",
    "\n",
    "The net input is then passed through the threshold function, which returns either 1 or -1 depending on whether the net input is above or below a certain threshold.\n",
    "\n",
    "4. **Update the weights**\n",
    "\n",
    "If the predicted output does not match the desired output for a given training example, the weights are updated to correct the prediction. This is done by adding or subtracting the product of the learning rate (learning_rate) and the error to each weight. The learning rate will decide how much the weights will be updated in every iteration. This is usually set to a small value. If it is too large, the algorithm can fail to converge. If it is too small, it may take a long time for the algorithm to converge. \n",
    "\n",
    "**Repeat steps 1 to 4 for every training example until the algorithm converges**\n",
    "\n",
    "\n",
    "6. **Return weights**:\n",
    "\n",
    "Once the algorithm has converged or the maximum number of iterations (n_iter) is reached, the weights are returned. These weights can then be used to predict classifications for unseen data. "
   ]
  },
  {
   "cell_type": "code",
   "execution_count": null,
   "id": "b506a570",
   "metadata": {},
   "outputs": [],
   "source": []
  }
 ],
 "metadata": {
  "kernelspec": {
   "display_name": "Python 3 (ipykernel)",
   "language": "python",
   "name": "python3"
  },
  "language_info": {
   "codemirror_mode": {
    "name": "ipython",
    "version": 3
   },
   "file_extension": ".py",
   "mimetype": "text/x-python",
   "name": "python",
   "nbconvert_exporter": "python",
   "pygments_lexer": "ipython3",
   "version": "3.10.11"
  }
 },
 "nbformat": 4,
 "nbformat_minor": 5
}
