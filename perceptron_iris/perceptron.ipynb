{
 "cells": [
  {
   "cell_type": "code",
   "execution_count": 7,
   "id": "ceac605b",
   "metadata": {},
   "outputs": [],
   "source": [
    "import pandas as pd\n",
    "import matplotlib.pyplot as plt\n",
    "import os\n",
    "import numpy as np\n",
    "from iris_dataset import df as iris_df\n",
    "from perceptron_classifier import Perceptron_Classifier\n",
    "from matplotlib.colors import ListedColormap\n",
    "import pprint as pprint\n"
   ]
  },
  {
   "cell_type": "markdown",
   "id": "da7b9115",
   "metadata": {},
   "source": [
    "# Perceptron classifier\n",
    "\n",
    "The perceptron classifier is a type of supervised learning algorithm used for binary classification. The perceptron classifier makes predictions by assigning weights to input features and taking a weighted sum.  It then applies a threshold function to the sum to produce a prediction of either 0 or 1. \n",
    "\n",
    "Whilst it is an efficient and simple algorithm, it does not perform well when the two classes of data do not have a linear seperation boundary. Therefore, whilst it's good for simple datasets, the algorithm can fail to converge with more complex datasets. In practice, other algorithms would be preferred over perceptron for binary classification problems in industry (e.g., SVM, logistic regression, Naive Bayes)."
   ]
  },
  {
   "cell_type": "markdown",
   "id": "3f42dfce",
   "metadata": {},
   "source": [
    "## Steps to implementing perceptron\n",
    "\n",
    "1. **Initialize the weights**\n",
    "\n",
    "Weights are initialized as small random values. Typically drawn from a normal distribution with a mean 0, and a small standard deviation (e.g., 0.01). Weights are essentially the parameters that establish the decision boundaries between the two classes of data, and correspond to features of the dataset. The importance of each weight determines the prediction of the perceptron. When the training is ongoing, these weights will be continually updated to find the best decision boundary.\n",
    "\n",
    "2. **Calculate the net input**\n",
    "\n",
    "For each training example (e.g., In house price prediction model, for each house...) calculate the net input. If we have a training set with n examples and m features, the weight vector w is a 1D array of length m+1 (where the extra dimension corresponds to the bias term). Each element of the weight vector w is multiplied by its corresponding feature in the input data, and the results are summed up to produce the net input to the perceptron.\n",
    "        1. Multiply the features by their corresponding weights\n",
    "        2. Sum the results\n",
    "        \n",
    "3. **Apply the activation function (threshold function)**\n",
    "\n",
    "The net input is then passed through the threshold function, which returns either 1 or -1 depending on whether the net input is above or below a certain threshold.\n",
    "\n",
    "4. **Update the weights**\n",
    "\n",
    "If the predicted output does not match the desired output for a given training example, the weights are updated to correct the prediction. This is done by adding or subtracting the product of the learning rate (learning_rate) and the error to each weight. The learning rate will decide how much the weights will be updated in every iteration. This is usually set to a small value. If it is too large, the algorithm can fail to converge. If it is too small, it may take a long time for the algorithm to converge. \n",
    "\n",
    "**Repeat steps 1 to 4 for every training example until the algorithm converges**\n",
    "\n",
    "\n",
    "6. **Return weights**:\n",
    "\n",
    "Once the algorithm has converged or the maximum number of iterations (n_iter) is reached, the weights are returned. These weights can then be used to predict classifications for unseen data. "
   ]
  },
  {
   "cell_type": "code",
   "execution_count": null,
   "id": "8317e24f",
   "metadata": {},
   "outputs": [],
   "source": [
    "class Perceptron_Classifier(object):\n",
    "    '''\n",
    "    Parameters\n",
    "    -------------\n",
    "    learning_rate : float\n",
    "        Learning rate (between 0.0 and 1.0). Decides how much the weights are updated in each iter. (typically, small).\n",
    "    n_iter : int\n",
    "        Number of iterations over the training dataset. \n",
    "    random_seed : int\n",
    "        Random number generator seed for random weight initialization (\n",
    "    Attributes\n",
    "    -------------\n",
    "    These attributes are used to keep track of the Perceptron object.\n",
    "\n",
    "    w_ : 1d_array\n",
    "        Weights after fitting. Stores the weights learned during training\n",
    "    errors_ : list\n",
    "        Number of misclassifications (updates) in each epoch (training iteration)\n",
    "    '''\n",
    "    def __init__(self, learning_rate=0.01, n_iter=50, random_seed=1):\n",
    "        self.learning_rate = learning_rate\n",
    "        self.n_iter = n_iter\n",
    "        self.random_seed = random_seed\n",
    "    \n",
    "    def fit(self, X, y):\n",
    "        \"\"\"\n",
    "        Fit training data.\n",
    "        Parameters\n",
    "        ----------\n",
    "        X : {array-like}, shape = [n_examples, n_features]\n",
    "            Training vectors. 2-dimensional array where n_examples is the \n",
    "            number of training examples and n_features is the number of features for each example\n",
    "        y : array-like, shape = [n_examples]\n",
    "            Target values. 1-dimensional array of shape [n_examples] containing the corresponding target output values for each example.\n",
    "\n",
    "        ***note: Capitalisation of X and y is done to distinguish between input features and output targets.\n",
    "        Returns\n",
    "        -------\n",
    "        self : object\n",
    "        \"\"\"\n",
    "        rgen = np.random.RandomState(self.random_seed)\n",
    "        self.w_ = rgen.normal (loc=0.0, scale=0.01, size=1+X.shape[1])\n",
    "        self.errors_ = []\n",
    "\n",
    "        for _ in range(self.n_iter):\n",
    "            errors = 0\n",
    "            for xi, target in zip(X, y):\n",
    "                update = self.learning_rate * (target - self.predict(xi))\n",
    "                self.w_[1:] += update * xi\n",
    "                self.w_[0] += update\n",
    "                errors += int(update != 0.0)\n",
    "            self.errors_.append(errors)\n",
    "        return self\n",
    "    \n",
    "    def net_input(self, X):\n",
    "        '''\n",
    "        Calculate the net input of the perceptron.\n",
    "\n",
    "        Parameters:\n",
    "        -----------\n",
    "        X : {array-like}, shape = [n_examples, n_features]\n",
    "            Input data.\n",
    "\n",
    "        Returns:\n",
    "        --------\n",
    "        net_input : numpy array, shape = [n_examples]\n",
    "            Net input calculated as the dot product of the input data and the \n",
    "            weight coefficients of the perceptron, plus the bias unit.\n",
    "        '''        \n",
    "        return np.dot(X,self.w_[1:]) + self.w_[0]\n",
    "\n",
    "    def predict(self, X):\n",
    "        '''\n",
    "        Return the predicted class labels after applying the Heaviside (classfy as either 1 or -1) step function.\n",
    "\n",
    "        Parameters:\n",
    "        -----------\n",
    "        X : {array-like}, shape = [n_examples, n_features]\n",
    "            Input data.\n",
    "\n",
    "        Returns:\n",
    "        --------\n",
    "        y_pred : numpy array, shape = [n_examples]\n",
    "            Predicted class labels after applying the Heaviside step function.\n",
    "            Class labels are either 1 or -1.\n",
    "        '''\n",
    "        return np.where(self.net_input(X) >= 0.0, 1, -1)"
   ]
  },
  {
   "cell_type": "markdown",
   "id": "948ac054",
   "metadata": {},
   "source": [
    "# Training a perceptron using the Iris dataset\n",
    "\n",
    "The iris dataset is a famous labelled dataset that contains the measurements of four features of three different species of iris flowers (verticolor, setosa, and virginica). The four features are the length and width of the sepals and petals. There are a total of 150 flower examples, 50 for each species.\n"
   ]
  },
  {
   "cell_type": "code",
   "execution_count": 10,
   "id": "f9c948bc",
   "metadata": {},
   "outputs": [
    {
     "data": {
      "text/html": [
       "<div>\n",
       "<style scoped>\n",
       "    .dataframe tbody tr th:only-of-type {\n",
       "        vertical-align: middle;\n",
       "    }\n",
       "\n",
       "    .dataframe tbody tr th {\n",
       "        vertical-align: top;\n",
       "    }\n",
       "\n",
       "    .dataframe thead th {\n",
       "        text-align: right;\n",
       "    }\n",
       "</style>\n",
       "<table border=\"1\" class=\"dataframe\">\n",
       "  <thead>\n",
       "    <tr style=\"text-align: right;\">\n",
       "      <th></th>\n",
       "      <th>0</th>\n",
       "      <th>1</th>\n",
       "      <th>2</th>\n",
       "      <th>3</th>\n",
       "      <th>4</th>\n",
       "    </tr>\n",
       "  </thead>\n",
       "  <tbody>\n",
       "    <tr>\n",
       "      <th>0</th>\n",
       "      <td>5.1</td>\n",
       "      <td>3.5</td>\n",
       "      <td>1.4</td>\n",
       "      <td>0.2</td>\n",
       "      <td>Iris-setosa</td>\n",
       "    </tr>\n",
       "    <tr>\n",
       "      <th>1</th>\n",
       "      <td>4.9</td>\n",
       "      <td>3.0</td>\n",
       "      <td>1.4</td>\n",
       "      <td>0.2</td>\n",
       "      <td>Iris-setosa</td>\n",
       "    </tr>\n",
       "    <tr>\n",
       "      <th>2</th>\n",
       "      <td>4.7</td>\n",
       "      <td>3.2</td>\n",
       "      <td>1.3</td>\n",
       "      <td>0.2</td>\n",
       "      <td>Iris-setosa</td>\n",
       "    </tr>\n",
       "    <tr>\n",
       "      <th>3</th>\n",
       "      <td>4.6</td>\n",
       "      <td>3.1</td>\n",
       "      <td>1.5</td>\n",
       "      <td>0.2</td>\n",
       "      <td>Iris-setosa</td>\n",
       "    </tr>\n",
       "    <tr>\n",
       "      <th>4</th>\n",
       "      <td>5.0</td>\n",
       "      <td>3.6</td>\n",
       "      <td>1.4</td>\n",
       "      <td>0.2</td>\n",
       "      <td>Iris-setosa</td>\n",
       "    </tr>\n",
       "    <tr>\n",
       "      <th>...</th>\n",
       "      <td>...</td>\n",
       "      <td>...</td>\n",
       "      <td>...</td>\n",
       "      <td>...</td>\n",
       "      <td>...</td>\n",
       "    </tr>\n",
       "    <tr>\n",
       "      <th>145</th>\n",
       "      <td>6.7</td>\n",
       "      <td>3.0</td>\n",
       "      <td>5.2</td>\n",
       "      <td>2.3</td>\n",
       "      <td>Iris-virginica</td>\n",
       "    </tr>\n",
       "    <tr>\n",
       "      <th>146</th>\n",
       "      <td>6.3</td>\n",
       "      <td>2.5</td>\n",
       "      <td>5.0</td>\n",
       "      <td>1.9</td>\n",
       "      <td>Iris-virginica</td>\n",
       "    </tr>\n",
       "    <tr>\n",
       "      <th>147</th>\n",
       "      <td>6.5</td>\n",
       "      <td>3.0</td>\n",
       "      <td>5.2</td>\n",
       "      <td>2.0</td>\n",
       "      <td>Iris-virginica</td>\n",
       "    </tr>\n",
       "    <tr>\n",
       "      <th>148</th>\n",
       "      <td>6.2</td>\n",
       "      <td>3.4</td>\n",
       "      <td>5.4</td>\n",
       "      <td>2.3</td>\n",
       "      <td>Iris-virginica</td>\n",
       "    </tr>\n",
       "    <tr>\n",
       "      <th>149</th>\n",
       "      <td>5.9</td>\n",
       "      <td>3.0</td>\n",
       "      <td>5.1</td>\n",
       "      <td>1.8</td>\n",
       "      <td>Iris-virginica</td>\n",
       "    </tr>\n",
       "  </tbody>\n",
       "</table>\n",
       "<p>150 rows × 5 columns</p>\n",
       "</div>"
      ],
      "text/plain": [
       "       0    1    2    3               4\n",
       "0    5.1  3.5  1.4  0.2     Iris-setosa\n",
       "1    4.9  3.0  1.4  0.2     Iris-setosa\n",
       "2    4.7  3.2  1.3  0.2     Iris-setosa\n",
       "3    4.6  3.1  1.5  0.2     Iris-setosa\n",
       "4    5.0  3.6  1.4  0.2     Iris-setosa\n",
       "..   ...  ...  ...  ...             ...\n",
       "145  6.7  3.0  5.2  2.3  Iris-virginica\n",
       "146  6.3  2.5  5.0  1.9  Iris-virginica\n",
       "147  6.5  3.0  5.2  2.0  Iris-virginica\n",
       "148  6.2  3.4  5.4  2.3  Iris-virginica\n",
       "149  5.9  3.0  5.1  1.8  Iris-virginica\n",
       "\n",
       "[150 rows x 5 columns]"
      ]
     },
     "execution_count": 10,
     "metadata": {},
     "output_type": "execute_result"
    }
   ],
   "source": [
    "iris_df"
   ]
  },
  {
   "cell_type": "markdown",
   "id": "33b1a786",
   "metadata": {},
   "source": [
    "## Plotting the features of versicolor and setosa\n",
    "\n",
    "We'll train the model using the sepal and petal length as the input features."
   ]
  },
  {
   "cell_type": "code",
   "execution_count": 20,
   "id": "ad339817",
   "metadata": {},
   "outputs": [
    {
     "data": {
      "image/png": "[encoded data removed]",
      "text/plain": [
       "<Figure size 640x480 with 1 Axes>"
      ]
     },
     "metadata": {},
     "output_type": "display_data"
    }
   ],
   "source": [
    "# Select setosa and versicolor and transform them to 1s (versicolor) and -1s (setosa)\n",
    "y = iris_df.iloc[0:100, 4].values\n",
    "y = np.where(y=='Iris-setosa', -1, 1)\n",
    "\n",
    "# Extract features (sepal-0 and petal length-2)\n",
    "X = iris_df.iloc[0:100, [0,2]].values\n",
    "\n",
    "# Plotting setosa and versicolor petal (y axis) and sepal (x axis) length\n",
    "plt.scatter(X[:50, 0], X[:50, 1],\n",
    "            color='green', marker='o', label='setosa')\n",
    "plt.scatter(X[50:100, 0], X[50:100, 1],\n",
    "            color='blue', marker='x', label='versicolor')\n",
    "\n",
    "plt.xlabel('sepal length (cm)')\n",
    "plt.ylabel('petal length (cm)')\n",
    "plt.legend(loc='upper left')\n",
    "\n",
    "plt.show()\n",
    "\n"
   ]
  },
  {
   "cell_type": "markdown",
   "id": "2254c7fe",
   "metadata": {},
   "source": [
    "From the above plot, we can see the distribution of flower examples. We can also see that a linear classification should be sufficient to classify versicolors and sertosas..."
   ]
  },
  {
   "cell_type": "markdown",
   "id": "f3e9578c",
   "metadata": {},
   "source": [
    "## Training the perceptron\n"
   ]
  },
  {
   "cell_type": "code",
   "execution_count": 25,
   "id": "270a4ba1",
   "metadata": {},
   "outputs": [
    {
     "data": {
      "text/plain": [
       "Text(0, 0.5, 'Number of updates to weights (misclassifications)')"
      ]
     },
     "execution_count": 25,
     "metadata": {},
     "output_type": "execute_result"
    },
    {
     "data": {
      "image/png": "[encoded data removed]",
      "text/plain": [
       "<Figure size 640x480 with 1 Axes>"
      ]
     },
     "metadata": {},
     "output_type": "display_data"
    }
   ],
   "source": [
    "plt.cla()\n",
    "\n",
    "ppn = Perceptron_Classifier(learning_rate=0.1, n_iter=10)\n",
    "\n",
    "ppn.fit(X, y)\n",
    "\n",
    "plt.plot(range(1, len(ppn.errors_) + 1), ppn.errors_, color='black', marker='o')\n",
    "plt.xlabel('Epochs')\n",
    "plt.ylabel('Number of updates to weights (misclassifications)')\n"
   ]
  },
  {
   "cell_type": "markdown",
   "id": "259136f7",
   "metadata": {},
   "source": [
    "From the above plot, we can see that after the 6th epoch, the model converges (i.e., weights no longer need to be updated).\n",
    "To more clearly visualise the convergence, we can plot seperation boundaries between the verticolor and sertosa classes. \n"
   ]
  },
  {
   "cell_type": "code",
   "execution_count": 19,
   "id": "726fd469",
   "metadata": {},
   "outputs": [
    {
     "name": "stderr",
     "output_type": "stream",
     "text": [
      "C:\\Users\\Chris\\AppData\\Local\\Temp\\ipykernel_2680\\1947311215.py:21: UserWarning: You passed a edgecolor/edgecolors ('black') for an unfilled marker ('x').  Matplotlib is ignoring the edgecolor in favor of the facecolor.  This behavior may change in the future.\n",
      "  plt.scatter(x=X[y == cl, 0],\n"
     ]
    },
    {
     "data": {
      "image/png": "[encoded data removed]",
      "text/plain": [
       "<Figure size 640x480 with 1 Axes>"
      ]
     },
     "metadata": {},
     "output_type": "display_data"
    }
   ],
   "source": [
    "def plot_decision_regions(X, y, classifier, resolution=0.02):\n",
    "\n",
    "    # setup marker generator and color map\n",
    "    markers = ('s', 'x', 'o', '^', 'v')\n",
    "    colors = ('green', 'blue', 'lightgreen', 'gray', 'cyan')\n",
    "    cmap = ListedColormap(colors[:len(np.unique(y))])\n",
    "\n",
    "    # plot the decision surface\n",
    "    x1_min, x1_max = X[:, 0].min() - 1, X[:, 0].max() + 1\n",
    "    x2_min, x2_max = X[:, 1].min() - 1, X[:, 1].max() + 1\n",
    "    xx1, xx2 = np.meshgrid(np.arange(x1_min, x1_max, resolution),\n",
    "                           np.arange(x2_min, x2_max, resolution))\n",
    "    Z = classifier.predict(np.array([xx1.ravel(), xx2.ravel()]).T)\n",
    "    Z = Z.reshape(xx1.shape)\n",
    "    plt.contourf(xx1, xx2, Z, alpha=0.3, cmap=cmap)\n",
    "    plt.xlim(xx1.min(), xx1.max())\n",
    "    plt.ylim(xx2.min(), xx2.max())\n",
    "\n",
    "    # plot class examples\n",
    "    for idx, cl in enumerate(np.unique(y)):\n",
    "        plt.scatter(x=X[y == cl, 0], \n",
    "                    y=X[y == cl, 1],\n",
    "                    alpha=0.8, \n",
    "                    c=colors[idx],\n",
    "                    marker=markers[idx], \n",
    "                    label=cl, \n",
    "                    edgecolor='black')\n",
    "\n",
    "\n",
    "plot_decision_regions(X, y, classifier=ppn)\n",
    "plt.xlabel('sepal length [cm]')\n",
    "plt.ylabel('petal length [cm]')\n",
    "plt.legend(loc='upper left')\n",
    "\n",
    "\n",
    "plt.show()"
   ]
  },
  {
   "cell_type": "raw",
   "id": "778b6f28",
   "metadata": {},
   "source": [
    "As mentioned before, the Perceptron classifier will only converge if there is a clear decision boundary between the two classifications. Without this, convergence becomes a big problem with perceptron. It is therefore efficient and effective for simple datasets, but not effective for more complex datasets. "
   ]
  },
  {
   "cell_type": "markdown",
   "id": "4fa43155",
   "metadata": {},
   "source": [
    "The book "
   ]
  }
 ],
 "metadata": {
  "kernelspec": {
   "display_name": "Python 3 (ipykernel)",
   "language": "python",
   "name": "python3"
  },
  "language_info": {
   "codemirror_mode": {
    "name": "ipython",
    "version": 3
   },
   "file_extension": ".py",
   "mimetype": "text/x-python",
   "name": "python",
   "nbconvert_exporter": "python",
   "pygments_lexer": "ipython3",
   "version": "3.10.11"
  }
 },
 "nbformat": 4,
 "nbformat_minor": 5
}
